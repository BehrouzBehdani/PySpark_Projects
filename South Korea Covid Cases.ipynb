{
 "cells": [
  {
   "cell_type": "markdown",
   "id": "7caba060",
   "metadata": {},
   "source": [
    "In this project, we investigate the South Korea  Covid cases. Our preliminary goal is to classify the confirmed cases based on main infection causes and the region of the country. \n",
    "\n",
    "Data Source : https://github.com/hyunjoonbok/PySpark/blob/master/data/Case.csv"
   ]
  },
  {
   "cell_type": "markdown",
   "id": "3976b65b",
   "metadata": {},
   "source": [
    "# Import Libraries and Innitialization"
   ]
  },
  {
   "cell_type": "code",
   "execution_count": 26,
   "id": "c872f385",
   "metadata": {},
   "outputs": [],
   "source": [
    "#Import required libraries\n",
    "from pyspark.sql import SparkSession\n",
    "import pyspark.sql.functions as F\n",
    "import time\n",
    "import pandas as pd\n",
    "import numpy as np\n",
    "from pyspark.sql.types import IntegerType\n",
    "from pyspark.sql.functions import col\n",
    "from pyspark.sql.functions import max,min"
   ]
  },
  {
   "cell_type": "code",
   "execution_count": 27,
   "id": "e27049b8",
   "metadata": {},
   "outputs": [],
   "source": [
    "spark=SparkSession.builder.appName('SparkByExamples.com').getOrCreate()\n",
    "cases=spark.read.csv('Case.csv',header=True)"
   ]
  },
  {
   "cell_type": "markdown",
   "id": "3c03171a",
   "metadata": {},
   "source": [
    "# Data Cleaning"
   ]
  },
  {
   "cell_type": "code",
   "execution_count": 28,
   "id": "447652f7",
   "metadata": {},
   "outputs": [],
   "source": [
    "#Removing Cases without location information\n",
    "cases= cases.filter( (cases.longitude != '-') | (cases.latitude !='-'))"
   ]
  },
  {
   "cell_type": "code",
   "execution_count": 29,
   "id": "ecdcb4cd",
   "metadata": {},
   "outputs": [
    {
     "name": "stdout",
     "output_type": "stream",
     "text": [
      "+--------+--------+---------------+-----+--------------------+---------+---------+----------+\n",
      "| case_id|province|           city|group|      infection_case|confirmed| latitude| longitude|\n",
      "+--------+--------+---------------+-----+--------------------+---------+---------+----------+\n",
      "| 1000001|   Seoul|     Yongsan-gu| TRUE|       Itaewon Clubs|      139|37.538621|126.992652|\n",
      "| 1000002|   Seoul|      Gwanak-gu| TRUE|             Richway|      119| 37.48208|126.901384|\n",
      "| 1000003|   Seoul|        Guro-gu| TRUE| Guro-gu Call Center|       95|37.508163|126.884387|\n",
      "| 1000004|   Seoul|   Yangcheon-gu| TRUE|Yangcheon Table T...|       43|37.546061|126.874209|\n",
      "| 1000005|   Seoul|      Dobong-gu| TRUE|     Day Care Center|       43|37.679422|127.044374|\n",
      "| 1000006|   Seoul|        Guro-gu| TRUE|Manmin Central Ch...|       41|37.481059|126.894343|\n",
      "| 1000008|   Seoul|  Dongdaemun-gu| TRUE|       Dongan Church|       17|37.592888|127.056766|\n",
      "| 1000010|   Seoul|      Gwanak-gu| TRUE|     Wangsung Church|       30|37.481735|126.930121|\n",
      "| 1000011|   Seoul|   Eunpyeong-gu| TRUE|Eunpyeong St. Mar...|       14| 37.63369|  126.9165|\n",
      "| 1000012|   Seoul|   Seongdong-gu| TRUE|    Seongdong-gu APT|       13| 37.55713|  127.0403|\n",
      "| 1000013|   Seoul|      Jongno-gu| TRUE|Jongno Community ...|       10| 37.57681|   127.006|\n",
      "| 1000014|   Seoul|     Gangnam-gu| TRUE|Samsung Medical C...|        7| 37.48825| 127.08559|\n",
      "| 1000015|   Seoul|        Jung-gu| TRUE|Jung-gu Fashion C...|        7|37.562405|126.984377|\n",
      "| 1000016|   Seoul|   Seodaemun-gu| TRUE|  Yeonana News Class|        5|37.558147|126.943799|\n",
      "| 1000017|   Seoul|      Jongno-gu| TRUE|Korea Campus Crus...|        7|37.594782|126.968022|\n",
      "| 1000023|   Seoul|        Jung-gu| TRUE|   KB Life Insurance|       13|37.560899|126.966998|\n",
      "| 1000024|   Seoul|Yeongdeungpo-gu| TRUE|Yeongdeungpo Lear...|        3|37.520846|126.931278|\n",
      "| 1000025|   Seoul|     Gangnam-gu| TRUE|Gangnam Dongin Ch...|        1|37.522331|127.057388|\n",
      "| 1000026|   Seoul|   Yangcheon-gu| TRUE|Biblical Language...|        3|37.524623|126.843118|\n",
      "| 1000029|   Seoul|     Gangnam-gu| TRUE|Samsung Fire & Ma...|        4|37.498279|127.030139|\n",
      "+--------+--------+---------------+-----+--------------------+---------+---------+----------+\n",
      "only showing top 20 rows\n",
      "\n"
     ]
    }
   ],
   "source": [
    "cases.show()"
   ]
  },
  {
   "cell_type": "code",
   "execution_count": 30,
   "id": "fdd58a0a",
   "metadata": {},
   "outputs": [],
   "source": [
    "#Case_id  is not useful , lets remove it\n",
    "cases=cases.drop(cases[' case_id'])"
   ]
  },
  {
   "cell_type": "code",
   "execution_count": 31,
   "id": "a0e59b31",
   "metadata": {},
   "outputs": [],
   "source": [
    "#Lets Row_ ID to our column\n",
    "cases=cases.withColumn('Row_ID',F.monotonically_increasing_id())"
   ]
  },
  {
   "cell_type": "code",
   "execution_count": 32,
   "id": "046d0b7a",
   "metadata": {},
   "outputs": [],
   "source": [
    "#Rearranging  Column\n",
    "cases=cases.select ('Row_ID','province','city','infection_case','confirmed','latitude','longitude')"
   ]
  },
  {
   "cell_type": "code",
   "execution_count": 33,
   "id": "e3329326",
   "metadata": {},
   "outputs": [
    {
     "name": "stdout",
     "output_type": "stream",
     "text": [
      " Number of cases removed due to the missing location is  109\n"
     ]
    }
   ],
   "source": [
    "#Finding Number of column with missing location\n",
    "cases_initial=spark.read.csv('Case.csv',header=True)\n",
    "print(\" Number of cases removed due to the missing location is \" ,cases_initial.count()-cases.count())"
   ]
  },
  {
   "cell_type": "markdown",
   "id": "775fd31f",
   "metadata": {},
   "source": [
    "# Total number of cases and finding cases based on the infection cause"
   ]
  },
  {
   "cell_type": "code",
   "execution_count": 34,
   "id": "a29da341",
   "metadata": {},
   "outputs": [
    {
     "name": "stdout",
     "output_type": "stream",
     "text": [
      "+--------------+\n",
      "|sum(confirmed)|\n",
      "+--------------+\n",
      "|          6521|\n",
      "+--------------+\n",
      "\n"
     ]
    }
   ],
   "source": [
    "#Total Number of Cases\n",
    "cases=cases.withColumn(\"confirmed\",F.col(\"confirmed\").astype(IntegerType()))\n",
    "#print(\"Number of cases in church is \", sum(church_casess.confirmed).show)\n",
    "cases.agg({'confirmed': 'sum'}).show()"
   ]
  },
  {
   "cell_type": "code",
   "execution_count": 35,
   "id": "a5097e0c",
   "metadata": {},
   "outputs": [
    {
     "name": "stdout",
     "output_type": "stream",
     "text": [
      "+--------------+\n",
      "|sum(confirmed)|\n",
      "+--------------+\n",
      "|          4755|\n",
      "+--------------+\n",
      "\n"
     ]
    }
   ],
   "source": [
    "#Number of cases in Church\n",
    "church_casess=cases.filter(cases['infection_case'].contains('Church'))\n",
    "church_casess=church_casess.withColumn(\"confirmed\",F.col(\"confirmed\").astype(IntegerType()))\n",
    "#print(\"Number of cases in church is \", sum(church_casess.confirmed).show)\n",
    "church_casess.agg({'confirmed': 'sum'}).show()\n"
   ]
  },
  {
   "cell_type": "code",
   "execution_count": 36,
   "id": "67bd2174",
   "metadata": {},
   "outputs": [
    {
     "name": "stdout",
     "output_type": "stream",
     "text": [
      "+--------------+\n",
      "|sum(confirmed)|\n",
      "+--------------+\n",
      "|           949|\n",
      "+--------------+\n",
      "\n"
     ]
    }
   ],
   "source": [
    "#Number of Overseas Cases\n",
    "overseas_cases=cases_initial.filter(cases_initial['infection_case']=='overseas inflow')\n",
    "overseas_cases=overseas_cases.withColumn(\"confirmed\",F.col(\"confirmed\").astype(IntegerType()))\n",
    "overseas_cases.agg({'confirmed': 'sum'}).show()"
   ]
  },
  {
   "cell_type": "code",
   "execution_count": 37,
   "id": "54f33343",
   "metadata": {},
   "outputs": [
    {
     "name": "stdout",
     "output_type": "stream",
     "text": [
      "+--------+-----------------+----+-----+---------------+---------+--------+---------+\n",
      "| case_id|         province|city|group| infection_case|confirmed|latitude|longitude|\n",
      "+--------+-----------------+----+-----+---------------+---------+--------+---------+\n",
      "| 1000036|            Seoul|   -|FALSE|overseas inflow|      298|       -|        -|\n",
      "| 1100008|            Busan|   -|FALSE|overseas inflow|       36|       -|        -|\n",
      "| 1200008|            Daegu|   -|FALSE|overseas inflow|       41|       -|        -|\n",
      "| 1300003|          Gwangju|   -|FALSE|overseas inflow|       23|       -|        -|\n",
      "| 1400005|          Incheon|   -|FALSE|overseas inflow|       68|       -|        -|\n",
      "| 1500008|          Daejeon|   -|FALSE|overseas inflow|       15|       -|        -|\n",
      "| 1600002|            Ulsan|   -|FALSE|overseas inflow|       25|       -|        -|\n",
      "| 1700004|           Sejong|   -|FALSE|overseas inflow|        5|       -|        -|\n",
      "| 2000020|      Gyeonggi-do|   -|FALSE|overseas inflow|      305|       -|        -|\n",
      "| 3000006|       Gangwon-do|   -|FALSE|overseas inflow|       16|       -|        -|\n",
      "| 4000005|Chungcheongbuk-do|   -|FALSE|overseas inflow|       13|       -|        -|\n",
      "| 4100006|Chungcheongnam-do|   -|FALSE|overseas inflow|       16|       -|        -|\n",
      "| 5000004|     Jeollabuk-do|   -|FALSE|overseas inflow|       12|       -|        -|\n",
      "| 5100003|     Jeollanam-do|   -|FALSE|overseas inflow|       14|       -|        -|\n",
      "| 6000011| Gyeongsangbuk-do|   -|FALSE|overseas inflow|       22|       -|        -|\n",
      "| 6100010| Gyeongsangnam-do|   -|FALSE|overseas inflow|       26|       -|        -|\n",
      "| 7000001|          Jeju-do|   -|FALSE|overseas inflow|       14|       -|        -|\n",
      "+--------+-----------------+----+-----+---------------+---------+--------+---------+\n",
      "\n"
     ]
    }
   ],
   "source": [
    "overseas_cases.show()"
   ]
  },
  {
   "cell_type": "code",
   "execution_count": 38,
   "id": "8a4abe7d",
   "metadata": {},
   "outputs": [
    {
     "data": {
      "text/plain": [
       "45"
      ]
     },
     "execution_count": 38,
     "metadata": {},
     "output_type": "execute_result"
    }
   ],
   "source": [
    "#Finding safe and unsafe Province and Cities\n",
    "cases = cases.withColumn(\"confirmed\", F.col(\"confirmed\").astype(IntegerType()))\n",
    "cases2=cases.groupBy('province','city').avg(\"confirmed\")\n",
    "cases2=cases2.withColumn('Safe', cases2['avg(confirmed)']>10)\n",
    "cases2=cases2.withColumn('Safe',cases2['Safe'].cast('integer'))\n",
    "cases2_UnSAFE=cases2.filter(cases2['Safe']==1)\n",
    "cases2_UnSAFE.count()\n",
    "cases2.count()"
   ]
  },
  {
   "cell_type": "code",
   "execution_count": 40,
   "id": "c70b93cc",
   "metadata": {},
   "outputs": [
    {
     "name": "stdout",
     "output_type": "stream",
     "text": [
      "+-----------------+-------------+------------------+\n",
      "|         province|         city|    avg(confirmed)|\n",
      "+-----------------+-------------+------------------+\n",
      "|            Daegu|       Nam-gu|            4511.0|\n",
      "|            Daegu| Dalseong-gun|             148.5|\n",
      "|            Seoul|   Yongsan-gu|             139.0|\n",
      "|            Daegu|       Seo-gu|             124.0|\n",
      "| Gyeongsangbuk-do| Cheongdo-gun|             119.0|\n",
      "|Chungcheongnam-do|   Cheonan-si|             103.0|\n",
      "|            Seoul|    Gwanak-gu|              74.5|\n",
      "| Gyeongsangbuk-do|  Bonghwa-gun|              68.0|\n",
      "|      Gyeonggi-do|   Bucheon-si|              67.0|\n",
      "|      Gyeonggi-do| Uijeongbu-si|              50.0|\n",
      "|            Seoul|      Guro-gu|46.333333333333336|\n",
      "|      Gyeonggi-do|  Seongnam-si|              44.5|\n",
      "|            Seoul|    Dobong-gu|              43.0|\n",
      "| Gyeongsangbuk-do|   Yechun-gun|              40.0|\n",
      "|            Busan|   Dongnae-gu|              39.0|\n",
      "|            Daegu|      Dong-gu|              39.0|\n",
      "| Gyeongsangbuk-do|  Chilgok-gun|              36.0|\n",
      "| Gyeongsangbuk-do| Gyeongsan-si|              33.0|\n",
      "|            Seoul| Yangcheon-gu|              23.0|\n",
      "|           Sejong|       Sejong|              19.5|\n",
      "|      Gyeonggi-do|    Anyang-si|              19.5|\n",
      "|            Seoul|Dongdaemun-gu|              17.0|\n",
      "|            Seoul| Eunpyeong-gu|              14.0|\n",
      "|            Seoul| Seongdong-gu|              13.0|\n",
      "|      Gyeonggi-do|     Suwon-si|              12.5|\n",
      "|Chungcheongbuk-do|   Goesan-gun|              11.0|\n",
      "+-----------------+-------------+------------------+\n",
      "\n"
     ]
    }
   ],
   "source": [
    "#Finding Most Unsafe Places\n",
    "cases2_UnSAFE=cases2_UnSAFE.orderBy(cases2_UnSAFE['avg(confirmed)'].desc())\n",
    "cases2_UnSAFE=cases2_UnSAFE.drop(cases2.Safe)\n",
    "cases2_UnSAFE.show(100)"
   ]
  },
  {
   "cell_type": "code",
   "execution_count": 41,
   "id": "cc8b09fb",
   "metadata": {},
   "outputs": [
    {
     "name": "stdout",
     "output_type": "stream",
     "text": [
      "+-----------------+------------+--------------+\n",
      "|         province|        city|avg(confirmed)|\n",
      "+-----------------+------------+--------------+\n",
      "|            Daegu|      Nam-gu|        4511.0|\n",
      "|            Daegu|Dalseong-gun|         148.5|\n",
      "|            Seoul|  Yongsan-gu|         139.0|\n",
      "|            Daegu|      Seo-gu|         124.0|\n",
      "| Gyeongsangbuk-do|Cheongdo-gun|         119.0|\n",
      "|Chungcheongnam-do|  Cheonan-si|         103.0|\n",
      "+-----------------+------------+--------------+\n",
      "\n"
     ]
    }
   ],
   "source": [
    "#Unsafest cities defineds as cities with Average Confirmed cases above 100\n",
    "case2_Unsafest=cases2_UnSAFE.filter(cases2_UnSAFE['avg(confirmed)']>100)\n",
    "case2_Unsafest.show()"
   ]
  },
  {
   "cell_type": "code",
   "execution_count": 42,
   "id": "9da55040",
   "metadata": {},
   "outputs": [
    {
     "name": "stdout",
     "output_type": "stream",
     "text": [
      "+------+--------+------+------------------+---------+--------+---------+\n",
      "|Row_ID|province|  city|    infection_case|confirmed|latitude|longitude|\n",
      "+------+--------+------+------------------+---------+--------+---------+\n",
      "|    27|   Daegu|Nam-gu|Shincheonji Church|     4511|35.84008| 128.5667|\n",
      "+------+--------+------+------------------+---------+--------+---------+\n",
      "\n",
      "The main reason for high infection in the unsafest city is Shincheonji Church\n"
     ]
    }
   ],
   "source": [
    "#Finding Unsafest  City\n",
    "cases_NamGU=cases.filter(cases['city']=='Nam-gu')\n",
    "cases_NamGU.show()\n",
    "\n",
    "print('The main reason for high infection in the unsafest city is' , cases_NamGU.first()[3])"
   ]
  },
  {
   "cell_type": "markdown",
   "id": "342ee199",
   "metadata": {},
   "source": [
    "# Infection by Region"
   ]
  },
  {
   "cell_type": "code",
   "execution_count": 50,
   "id": "3f410e2a",
   "metadata": {},
   "outputs": [],
   "source": [
    "#Finding  the dimension of North, South, East and West and Center \n",
    "min_long, max_long = cases.select(F.min(cases.longitude).cast(\"float\"), F.max(cases.longitude).cast(\"float\")).first()\n",
    "min_lat, max_lat = cases.select(F.min(cases.latitude).cast(\"float\"), F.max(cases.latitude).cast(\"float\")).first()\n",
    "diff_long=max_long-min_long\n",
    "diff_lat=max_lat-min_lat\n",
    "cen_lat=min_lat+diff_lat/2\n",
    "cen_long=min_long+diff_long/2"
   ]
  },
  {
   "cell_type": "code",
   "execution_count": 55,
   "id": "4f81da3c",
   "metadata": {},
   "outputs": [
    {
     "name": "stdout",
     "output_type": "stream",
     "text": [
      "+------+-----------------+---------------+--------------------+---------+----------+-----------+----------+\n",
      "|Row_ID|         province|           city|      infection_case|confirmed|  latitude|  longitude|    Region|\n",
      "+------+-----------------+---------------+--------------------+---------+----------+-----------+----------+\n",
      "|     0|            Seoul|     Yongsan-gu|       Itaewon Clubs|      139| 37.538621| 126.992652|North_West|\n",
      "|     1|            Seoul|      Gwanak-gu|             Richway|      119|  37.48208| 126.901384|North_West|\n",
      "|     2|            Seoul|        Guro-gu| Guro-gu Call Center|       95| 37.508163| 126.884387|North_West|\n",
      "|     3|            Seoul|   Yangcheon-gu|Yangcheon Table T...|       43| 37.546061| 126.874209|North_West|\n",
      "|     4|            Seoul|      Dobong-gu|     Day Care Center|       43| 37.679422| 127.044374|North_West|\n",
      "|     5|            Seoul|        Guro-gu|Manmin Central Ch...|       41| 37.481059| 126.894343|North_West|\n",
      "|     6|            Seoul|  Dongdaemun-gu|       Dongan Church|       17| 37.592888| 127.056766|North_West|\n",
      "|     7|            Seoul|      Gwanak-gu|     Wangsung Church|       30| 37.481735| 126.930121|North_West|\n",
      "|     8|            Seoul|   Eunpyeong-gu|Eunpyeong St. Mar...|       14|  37.63369|   126.9165|North_West|\n",
      "|     9|            Seoul|   Seongdong-gu|    Seongdong-gu APT|       13|  37.55713|   127.0403|North_West|\n",
      "|    10|            Seoul|      Jongno-gu|Jongno Community ...|       10|  37.57681|    127.006|North_West|\n",
      "|    11|            Seoul|     Gangnam-gu|Samsung Medical C...|        7|  37.48825|  127.08559|North_West|\n",
      "|    12|            Seoul|        Jung-gu|Jung-gu Fashion C...|        7| 37.562405| 126.984377|North_West|\n",
      "|    13|            Seoul|   Seodaemun-gu|  Yeonana News Class|        5| 37.558147| 126.943799|North_West|\n",
      "|    14|            Seoul|      Jongno-gu|Korea Campus Crus...|        7| 37.594782| 126.968022|North_West|\n",
      "|    15|            Seoul|        Jung-gu|   KB Life Insurance|       13| 37.560899| 126.966998|North_West|\n",
      "|    16|            Seoul|Yeongdeungpo-gu|Yeongdeungpo Lear...|        3| 37.520846| 126.931278|North_West|\n",
      "|    17|            Seoul|     Gangnam-gu|Gangnam Dongin Ch...|        1| 37.522331| 127.057388|North_West|\n",
      "|    18|            Seoul|   Yangcheon-gu|Biblical Language...|        3| 37.524623| 126.843118|North_West|\n",
      "|    19|            Seoul|     Gangnam-gu|Samsung Fire & Ma...|        4| 37.498279| 127.030139|North_West|\n",
      "|    20|            Seoul|     Gangseo-gu|SJ Investment Cal...|        0| 37.559649| 126.835102|North_West|\n",
      "|    21|            Seoul|        Jung-gu|Seoul City Hall S...|        3| 37.565699| 126.977079|North_West|\n",
      "|    22|            Seoul|        Guro-gu|     Daezayeon Korea|        3| 37.486837| 126.893163|North_West|\n",
      "|    23|            Busan|     Dongnae-gu|       Onchun Church|       39|  35.21628|   129.0771|South_East|\n",
      "|    24|            Busan|     Suyeong-gu|Suyeong-gu Kinder...|        5|  35.16708|   129.1124|South_East|\n",
      "|    25|            Busan|    Haeundae-gu|Haeundae-gu Catho...|        6|  35.20599|   129.1256|South_East|\n",
      "|    26|            Busan|         Jin-gu|      Jin-gu Academy|        4|  35.17371|   129.0633|South_East|\n",
      "|    27|            Daegu|         Nam-gu|  Shincheonji Church|     4511|  35.84008|   128.5667|South_East|\n",
      "|    28|            Daegu|   Dalseong-gun|Second Mi-Ju Hosp...|      196| 35.857375| 128.466651|South_East|\n",
      "|    29|            Daegu|         Seo-gu|Hansarang Convale...|      124| 35.885592| 128.556649|South_East|\n",
      "|    30|            Daegu|   Dalseong-gun|Daesil Convalesce...|      101| 35.857393| 128.466653|South_East|\n",
      "|    31|            Daegu|        Dong-gu|     Fatima Hospital|       39|  35.88395| 128.624059|South_East|\n",
      "|    32|          Gwangju|        Dong-gu|  Gwangneuksa Temple|        5| 35.136035| 126.956405|South_West|\n",
      "|    33|          Daejeon|         Seo-gu|Dunsan Electronic...|       13|36.3400973|127.3927099|South_West|\n",
      "|    34|          Daejeon|         Seo-gu|         Orange Town|        7|36.3398739|127.3819744|South_West|\n",
      "|    35|          Daejeon|         Seo-gu|     Dreaming Church|        4| 36.346869| 127.368594|South_West|\n",
      "|    36|          Daejeon|         Seo-gu|Korea Forest Engi...|        3| 36.358123| 127.388856|South_West|\n",
      "|    37|           Sejong|         Sejong|Ministry of Ocean...|       31| 36.504713| 127.265172|North_West|\n",
      "|    38|           Sejong|         Sejong|gym facility in S...|        8|  36.48025|    127.289|North_West|\n",
      "|    39|      Gyeonggi-do|    Seongnam-si|River of Grace Co...|       67| 37.455687| 127.161627|North_West|\n",
      "|    40|      Gyeonggi-do|     Bucheon-si|Coupang Logistics...|       67| 37.530579| 126.775254|North_West|\n",
      "|    41|      Gyeonggi-do|   Uijeongbu-si|Uijeongbu St. Mar...|       50| 37.758635| 127.077716|North_West|\n",
      "|    42|      Gyeonggi-do|    Seongnam-si|Bundang Jesaeng H...|       22|  37.38833|   127.1218|North_West|\n",
      "|    43|      Gyeonggi-do|      Anyang-si|Anyang Gunpo Past...|       22| 37.381784|  126.93615|North_West|\n",
      "|    44|      Gyeonggi-do|       Suwon-si|Lotte Confectione...|       15| 37.287356| 127.013827|North_West|\n",
      "|    45|      Gyeonggi-do|      Anyang-si|   Lord Glory Church|       17| 37.403722| 126.954939|North_West|\n",
      "|    46|      Gyeonggi-do|       Suwon-si|Suwon Saeng Myeon...|       10|   37.2376|   127.0517|North_West|\n",
      "|    47|       Gangwon-do|       Wonju-si| Wonju-si Apartments|        4| 37.342762| 127.983815|North_East|\n",
      "|    48|Chungcheongbuk-do|     Goesan-gun|Goesan-gun Jangye...|       11|  36.82422|   127.9552|North_East|\n",
      "|    49|Chungcheongnam-do|     Cheonan-si|gym facility in C...|      103|  36.81503|   127.1139|North_West|\n",
      "|    50|Chungcheongnam-do|      Seosan-si|Seosan-si Laboratory|        9| 37.000354| 126.354443|North_West|\n",
      "|    51|     Jeollanam-do|       Muan-gun|Manmin Central Ch...|        2| 35.078825| 126.316746|South_West|\n",
      "|    52| Gyeongsangbuk-do|   Cheongdo-gun|Cheongdo Daenam H...|      119|  35.64887|   128.7368|South_East|\n",
      "|    53| Gyeongsangbuk-do|    Bonghwa-gun|Bonghwa Pureun Nu...|       68|  36.92757|   128.9099|North_East|\n",
      "|    54| Gyeongsangbuk-do|   Gyeongsan-si|Gyeongsan Seorin ...|       66| 35.782149| 128.801498|South_East|\n",
      "|    55| Gyeongsangbuk-do|     Yechun-gun|          Yechun-gun|       40| 36.646845| 128.437416|North_East|\n",
      "|    56| Gyeongsangbuk-do|    Chilgok-gun|       Milal Shelter|       36|   36.0581|   128.4941|South_East|\n",
      "|    57| Gyeongsangbuk-do|   Gyeongsan-si|Gyeongsan Jeil Si...|       17|  35.84819|   128.7621|South_East|\n",
      "|    58| Gyeongsangbuk-do|   Gyeongsan-si|Gyeongsan Cham Jo...|       16|  35.82558|   128.7373|South_East|\n",
      "|    59| Gyeongsangnam-do|   Geochang-gun|     Geochang Church|       10|  35.68556|   127.9127|South_East|\n",
      "|    60| Gyeongsangnam-do|       Jinju-si|         Wings Tower|        9| 35.164845| 128.126969|South_East|\n",
      "|    61| Gyeongsangnam-do|   Geochang-gun|Geochang-gun Woon...|        8| 35.805681| 127.917805|South_East|\n",
      "|    62| Gyeongsangnam-do|    Changwon-si|Hanmaeum Changwon...|        7|  35.22115|   128.6866|South_East|\n",
      "|    63| Gyeongsangnam-do|Changnyeong-gun|Changnyeong Coin ...|        7|  35.54127|   128.5008|South_East|\n",
      "|    64| Gyeongsangnam-do|     Yangsan-si|         Soso Seowon|        3| 35.338811| 129.017508|South_East|\n",
      "+------+-----------------+---------------+--------------------+---------+----------+-----------+----------+\n",
      "\n"
     ]
    }
   ],
   "source": [
    "#Adding the Column for Region\n",
    "cases=cases.withColumn(\"Region\", F.when((cases['longitude'].cast(\"float\")>cen_long) & (cases['latitude'].cast(\"float\")>cen_lat),F.lit('North_East'))\n",
    "                                .when((cases['longitude'].cast(\"float\")>cen_long) & (cases['latitude'].cast(\"float\")<cen_lat),F.lit('South_East'))\n",
    "                                .when((cases['longitude'].cast(\"float\")<cen_long) & (cases['latitude'].cast(\"float\")<cen_lat),F.lit('South_West'))\n",
    "                                .when((cases['longitude'].cast(\"float\")<cen_long) & (cases['latitude'].cast(\"float\")>cen_lat),F.lit('North_West')))\n",
    "cases.show(500)"
   ]
  },
  {
   "cell_type": "code",
   "execution_count": 54,
   "id": "8852b11a",
   "metadata": {},
   "outputs": [
    {
     "name": "stdout",
     "output_type": "stream",
     "text": [
      "+--------------+\n",
      "|sum(confirmed)|\n",
      "+--------------+\n",
      "|          5323|\n",
      "+--------------+\n",
      "\n"
     ]
    }
   ],
   "source": [
    "#South East Cases\n",
    "South_east_cases=cases.filter(cases['Region']=='South_East')\n",
    "South_east_cases.agg({'confirmed': 'sum'}).show()"
   ]
  },
  {
   "cell_type": "code",
   "execution_count": 53,
   "id": "9f7b3fe1",
   "metadata": {},
   "outputs": [
    {
     "name": "stdout",
     "output_type": "stream",
     "text": [
      "+--------------+\n",
      "|sum(confirmed)|\n",
      "+--------------+\n",
      "|           123|\n",
      "+--------------+\n",
      "\n"
     ]
    }
   ],
   "source": [
    "#NorthEast Cases\n",
    "North_east_cases=cases.filter(cases['Region']=='North_East')\n",
    "North_east_cases.agg({'confirmed': 'sum'}).show()"
   ]
  },
  {
   "cell_type": "code",
   "execution_count": 52,
   "id": "daaf7636",
   "metadata": {},
   "outputs": [
    {
     "name": "stdout",
     "output_type": "stream",
     "text": [
      "+--------------+\n",
      "|sum(confirmed)|\n",
      "+--------------+\n",
      "|          1041|\n",
      "+--------------+\n",
      "\n"
     ]
    }
   ],
   "source": [
    "#Northwest Cases\n",
    "North_west_cases=cases.filter(cases['Region']=='North_West')\n",
    "North_west_cases.agg({'confirmed': 'sum'}).show()"
   ]
  },
  {
   "cell_type": "code",
   "execution_count": 51,
   "id": "4d17cdbd",
   "metadata": {},
   "outputs": [
    {
     "name": "stdout",
     "output_type": "stream",
     "text": [
      "+--------------+\n",
      "|sum(confirmed)|\n",
      "+--------------+\n",
      "|            34|\n",
      "+--------------+\n",
      "\n"
     ]
    }
   ],
   "source": [
    "#Southwest Cases\n",
    "South_west_cases=cases.filter(cases['Region']=='South_West')\n",
    "South_west_cases.agg({'confirmed': 'sum'}).show()"
   ]
  },
  {
   "cell_type": "code",
   "execution_count": null,
   "id": "4bf8247f",
   "metadata": {},
   "outputs": [],
   "source": []
  }
 ],
 "metadata": {
  "kernelspec": {
   "display_name": "Python 3 (ipykernel)",
   "language": "python",
   "name": "python3"
  },
  "language_info": {
   "codemirror_mode": {
    "name": "ipython",
    "version": 3
   },
   "file_extension": ".py",
   "mimetype": "text/x-python",
   "name": "python",
   "nbconvert_exporter": "python",
   "pygments_lexer": "ipython3",
   "version": "3.11.3"
  }
 },
 "nbformat": 4,
 "nbformat_minor": 5
}
